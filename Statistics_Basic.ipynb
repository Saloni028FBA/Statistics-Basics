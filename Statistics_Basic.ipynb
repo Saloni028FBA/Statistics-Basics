{
  "nbformat": 4,
  "nbformat_minor": 0,
  "metadata": {
    "colab": {
      "provenance": []
    },
    "kernelspec": {
      "name": "python3",
      "display_name": "Python 3"
    },
    "language_info": {
      "name": "python"
    }
  },
  "cells": [
    {
      "cell_type": "markdown",
      "source": [
        "#### Statistics Basic\n",
        "## Theory Part\n",
        "\n"
      ],
      "metadata": {
        "id": "YQ0-vzSwMz-y"
      }
    },
    {
      "cell_type": "markdown",
      "source": [
        "1. What is statistics, and why is it important?\n",
        "\n",
        "   - Statistics is the science of collecting, organizing, analyzing, interpreting, and presenting data.\n",
        "   \n",
        "   - Statistics turns raw numerical information into meaningful insights and draw conclusions or make decisions based on data.\n",
        "\n",
        "   - Why is Statistics Important?\n",
        "     \n",
        "      1. Informed Decision-Making => Governments, businesses, and individuals use statistics to make evidence-based decisions. For example, companies use customer data to improve products.\n",
        "\n",
        "      2. Understanding Data => It allows us to identify trends, patterns, and relationships within data whether in economics, healthcare, sports, or social sciences.\n",
        "\n",
        "      3. Predictive Analysis => Statistical models can forecast future events, like election results or sales projections and used in machine learning, weather forecasting, and stock market trends.\n",
        "\n",
        "      4. Quality Control => Industries use statistics to monitor and improve the quality of their products and services, ensures product reliability in manufacturing (e.g., Six Sigma).\n",
        "\n",
        "      5. Scientific Research => In research, statistics are essential to test hypotheses and validate findings. Essential for testing hypotheses in fields like medicine, psychology, and economics.\n"
      ],
      "metadata": {
        "id": "pm9BLj2eM-ZZ"
      }
    },
    {
      "cell_type": "markdown",
      "source": [
        "2. What are the two main types of statistics?\n",
        "\n",
        "   - Statistics is broadly classified into descriptive statistics and inferential statistics.\n",
        "\n",
        "     1. Descriptive statistics => Descriptive statistics summarize and organize data in a meaningful way.\n",
        "     \n",
        "      - They do not make predictions or generalizations beyond the collected data.\n",
        "\n",
        "      -  It describes the main features of a dataset using following methods:\n",
        "           \n",
        "          a) Measures of Central Tendency =>  Mean, median, and mode, which describe the center of the data.\n",
        "\n",
        "          b) Measures of Dispersion => Range, variance, and standard deviation, which indicate how data is spread.\n",
        "\n",
        "          c) Data Visualization => Charts, histograms, and frequency distributions to represent data effectively.\n",
        "\n",
        "      - Example: A teacher calculates the average score of her students on a test.\n",
        "\n",
        "    2. Inferential Statistics => Inferential statistics analyze sample data to make predictions or generalizations about a larger population.\n",
        "\n",
        "      -  Inferential statistics use the following methods:\n",
        "\n",
        "         a) Probability Distributions => Normal, binomial, and Poisson distributions used to model data.\n",
        "\n",
        "         b) Hypothesis Testing => Determines if a claim about data is statistically significant.\n",
        "\n",
        "         c) Regression Analysis => Helps predict relationships between variables.\n",
        "\n",
        "      - Example: A researcher surveys 100 people and uses the data to estimate how all adults in a city feel about a new policy."
      ],
      "metadata": {
        "id": "h3WKotfXPGwh"
      }
    },
    {
      "cell_type": "markdown",
      "source": [
        "3. What are descriptive statistics?\n",
        "\n",
        "   - Descriptive statistics are methods for summarizing, organizing, and presenting data in a understandable and meaningful way.\n",
        "   \n",
        "    - They help you understand the basic features of a dataset.Instead of making predictions or drawing conclusions beyond the given dataset, they focus on organizing and simplifying information.\n",
        "\n",
        "    - Key Components of Descriptive Statistics:\n",
        "\n",
        "       1. Measures of Central Tendency => These describe the \"center\" of a dataset:\n",
        "         \n",
        "         - Mean (average) – The average of the data, sum of all values divided by the number of values\n",
        "\n",
        "         - Median – The middle value when data is arranged in order or sorted.\n",
        "\n",
        "         - Mode – The most frequently occurring value.\n",
        "\n",
        "       2. Measures of Dispersion => These show how spread out the data is:\n",
        "       \n",
        "         - Range – The difference between the highest and lowest values.\n",
        "         \n",
        "         - Variance – Measures how data points vary from the mean.\n",
        "         \n",
        "         - Standard Deviation – The average distance of each data point from the mean.\n",
        "\n",
        "      3. Data Visualization => Helps represent data graphically:\n",
        "\n",
        "         - Histograms – Show the frequency of different values.\n",
        "         \n",
        "         - Box Plots – Display the distribution and outliers in data.\n",
        "         \n",
        "         - Scatter Plots – Illustrate relationships between two variables."
      ],
      "metadata": {
        "id": "mwc5rm2wRsuv"
      }
    },
    {
      "cell_type": "markdown",
      "source": [
        "4. What is inferential statistics?\n",
        "\n",
        "   - Inferential statistics is a branch of statistics that allows you to make predictions or generalizations about a population based on a sample of data.\n",
        "   \n",
        "   - Instead of analyzing an entire population (which is often impractical), inferential statistics uses data from a smaller group (sample) to draw conclusions and determine relationships about the larger group.\n",
        "\n",
        "   - Some key techniques used in inferential statistics include:\n",
        "\n",
        "      1. Hypothesis Testing: Determines if a claim about a population is likely to be true.\n",
        "      \n",
        "      2. Confidence Intervals: Estimates a population parameter with a given level of certainty.\n",
        "      \n",
        "      3. Regression Analysis: Examines relationships between variables.\n",
        "      \n",
        "      4. ANOVA (Analysis of Variance): Compares means across multiple groups to identify significant differences.\n",
        "\n",
        "      5. p-values and Significance Levels: Tools to determine whether your results are statistically significant."
      ],
      "metadata": {
        "id": "9de7A3sDXsem"
      }
    },
    {
      "cell_type": "markdown",
      "source": [
        "5. What is sampling in statistics?\n",
        "\n",
        "  - Sampling in statistics is the process of selecting a subset (called a sample) from a larger group (called a population) to gather data and make inferences about the whole population.\n",
        "  \n",
        "  - Since studying an entire population is often time-consuming, expensive, or impractical, sampling provides a way to gather meaningful insights more efficiently.\n",
        "\n",
        "  - Types of Sampling Methods:\n",
        "  \n",
        "     1. Random Sampling: Every member of the population has an equal chance of being selected.\n",
        "     \n",
        "     2. Stratified Sampling: Population is divided into subgroups (strata) and random samples are taken from each.\n",
        "     \n",
        "     3. Systematic Sampling: Every n-th member of the population is selected (e.g., every 10th person).\n",
        "     \n",
        "     4. Cluster Sampling: The population is divided into clusters (e.g., by region), and entire clusters are randomly selected.\n",
        "     \n",
        "     5. Convenience Sampling: Samples are taken from a group that is easy to access (not always reliable)."
      ],
      "metadata": {
        "id": "nRO5Qg-7goQ1"
      }
    },
    {
      "cell_type": "markdown",
      "source": [
        "6. What are the different types of sampling methods?\n",
        "\n",
        "   - There are several types of sampling methods, broadly categorized into probability sampling (where every individual in the population has a known chance of being selected) and non-probability sampling (where selection is based on subjective criteria).\n",
        "\n",
        "   - Here’s a breakdown:\n",
        "\n",
        "     A. Probability Sampling\n",
        "     \n",
        "     - This methods Ensures random selection and reduces bias\n",
        "\n",
        "     - Each member of the population has a known, non-zero chance of being selected.\n",
        "\n",
        "       1. a. Simple Random Sampling -> Every member of the population has an equal chance of being selected. Example: Drawing names from a hat.\n",
        "       \n",
        "       2. Systematic Sampling -> Select every n-th individual from a list.Example: Choosing every 10th customer from a customer list.\n",
        "       \n",
        "       3. Stratified Sampling -> Divide the population into subgroups (strata) based on a characteristic, then randomly sample from each subgroup.Example: Grouping people by age and sampling proportionally.\n",
        "       \n",
        "       4. Cluster Sampling -> Divide the population into clusters (often geographically), randomly select a few clusters, then survey everyone in those clusters. Example: Selecting a few schools at random and surveying all students in them.\n",
        "\n",
        "       5. Multistage Sampling -> A combination of different probability sampling techniques (e.g., randomly selecting clusters first, then individuals within those clusters).\n",
        "       \n",
        "     B. Non-Probability Sampling Methods\n",
        "     \n",
        "     - This method of sampling are often used when randomization isn’t feasible.\n",
        "\n",
        "     - Not every member has a known chance of being selected — often used for convenience or in exploratory research\n",
        "\n",
        "       1. Convenience Sampling -> Select individuals who are easy to reach.Example: Surveying people at a mall.\n",
        "       \n",
        "       2. Judgmental/Purposive Sampling -> The researcher uses their judgment to choose participants who are most useful or representative.Example: Interviewing industry experts.\n",
        "       \n",
        "       3. Snowball Sampling -> Existing subjects recruit future subjects from among their acquaintances. Often used in hard-to-reach populations (e.g., drug users, refugees).\n",
        "       \n",
        "       5. Quota Sampling -> Ensure specific characteristics are represented in the sample, but selection isn't random. Example: Surveying 50 men and 50 women, regardless of how they are chosen."
      ],
      "metadata": {
        "id": "b9be8D5ZiITf"
      }
    },
    {
      "cell_type": "markdown",
      "source": [
        "7. What is the difference between random and non-random sampling?\n",
        "\n",
        "   - The key difference between random sampling and non-random sampling lies in how individuals or data points are selected from a population.\n",
        "\n",
        "     A. Random Sampling (Probability Sampling)\n",
        "\n",
        "     - Every member of the population has a known and equal chance of being selected\n",
        "\n",
        "     - Key Features:\n",
        "      \n",
        "       1. Reduces bias\n",
        "       \n",
        "       2. Results can be generalized to the whole population\n",
        "       \n",
        "       3. Statistically valid and supports inferential analysis\n",
        "\n",
        "    - Use Case: Ideal for large-scale surveys or when statistical accuracy is important (e.g., national polls, scientific studies).\n",
        "\n",
        "    - Example:\n",
        "     \n",
        "      - Drawing names from a hat (Simple Random Sampling)\n",
        "      - Selecting every 5th person on a list (Systematic Sampling)\n",
        "\n",
        "    B. Non-Random Sampling (Non-Probability Sampling)\n",
        "\n",
        "     - Selection is subjective or convenience-based, meaning some individuals may have a higher chance of inclusion than others.\n",
        "\n",
        "     - Key Features:\n",
        "     \n",
        "       1. Easier and faster to conduct\n",
        "       \n",
        "       2. Higher risk of selection bias\n",
        "       \n",
        "       3. Results may not be representative of the population\n",
        "\n",
        "    - Use Case: Useful in exploratory research, pilot studies, or when time/resources are limited.\n",
        "\n",
        "    - Examples:\n",
        "    \n",
        "       - Surveying people who pass by on the street (Convenience Sampling)\n",
        "       - Choosing participants based on researcher’s opinion (Judgmental Sampling)"
      ],
      "metadata": {
        "id": "iP0SaH-Blcwh"
      }
    },
    {
      "cell_type": "markdown",
      "source": [
        "8. Define and give examples of qualitative and quantitative data.\n",
        "\n",
        "     A. Qualitative Data (Descriptive, Non-Numerical)\n",
        "\n",
        "      - Data that describes qualities, attributes, or characteristics and is non-numerical.\n",
        "\n",
        "      - Describes \"what\" or \"how\"\n",
        "\n",
        "      - Cannot be measured, but can be categorized\n",
        "\n",
        "      - Often collected through observations, interviews, or open-ended survey responses.\n",
        "\n",
        "      - Types:\n",
        "      \n",
        "        1. Nominal – Categories without order (e.g., gender, colors)\n",
        "        \n",
        "        2. Ordinal – Categories with a meaningful order (e.g., satisfaction level: high, medium, low)\n",
        "\n",
        "      - Examples:\n",
        "\n",
        "         - Customer Feedback – “The service was excellent” vs. “The service was poor.”\n",
        "\n",
        "         - Hair color - Brown, Black, Blonde, Ginger\n",
        "\n",
        "   B. Quantitative Data (Numerical, Measurable)\n",
        "\n",
        "      - Data that can be measured or counted and expressed in numbers.\n",
        "\n",
        "      - Can be used for statistical analysis and mathematical computations.\n",
        "\n",
        "      - Often collected through experiments, surveys, or databases.\n",
        "\n",
        "      - Can be used for statistical analysis and mathematical computations.\n",
        "\n",
        "      - Types:\n",
        "      \n",
        "        1. Discrete – Countable values (e.g., number of students)\n",
        "        \n",
        "        2. Continuous – Measurable values with decimals (e.g., height, temperature)\n",
        "\n",
        "      - Examples:\n",
        "\n",
        "         - Age of Employees – 22 years, 35 years, 40 years.\n",
        "\n",
        "         - Weight of Fruits in a Basket – 1.2 kg, 1.8 kg, 2.5 kg."
      ],
      "metadata": {
        "id": "a_FtJwv_r0uS"
      }
    },
    {
      "cell_type": "markdown",
      "source": [
        "9. What are the different types of data in statistics?\n",
        "\n",
        "   - In statistics, data types are essential because they determine what kind of analysis can be performed. Data is broadly categorized into qualitative (categorical) and quantitative (numerical) data, each with subtypes.\n",
        "\n",
        "     A. Qualitative (Categorical) Data => This type describes qualities or characteristics and is not numerical.\n",
        "\n",
        "        1. Nominal Data (Categorical, Qualitative)\n",
        "        \n",
        "         - Categories without any inherent order.\n",
        "\n",
        "         - Cannot be quantified, only categorized.\n",
        "         \n",
        "         - Examples: Gender (Male/Female), Eye color (Brown, Blue), Blood type (A, B, AB, O)\n",
        "         \n",
        "        2. Ordinal Data (Ranked, Qualitative)\n",
        "        \n",
        "          - Represents categories with a meaningful order, but without precise differences between values.\n",
        "\n",
        "          - Used for subjective ratings or ranked preferences.\n",
        "          \n",
        "          - Examples: Customer satisfaction (High, Medium, Low), Education level (High School, Bachelor's, Master's).\n",
        "\n",
        "    B. Quantitative (Numerical) Data => This type involves measurable quantities and is expressed as numbers.\n",
        "\n",
        "        1. Discrete Data (Countable, Quantitative)\n",
        "        \n",
        "          - Numerical data that consists of distinct values (whole numbers).\n",
        "\n",
        "          - Cannot have fractional or decimal values.\n",
        "          \n",
        "          - Examples: Number of employees in a company: 50, 75, 120, Number of books in a library: 200, 350, 500.\n",
        "\n",
        "        2. Continuous Data (Measurable, Quantitative)\n",
        "\n",
        "          - Numerical data that can take infinite values within a range.\n",
        "          \n",
        "          - Can include fractions and decimals.\n",
        "\n",
        "          - Examples: Height of students: 155.5 cm, 160.2 cm, 172.8 cm, Temperature readings: 28.5°C, 30.1°C, 32.7°C."
      ],
      "metadata": {
        "id": "O5eP9KW-wkEh"
      }
    },
    {
      "cell_type": "markdown",
      "source": [
        "10. Explain nominal, ordinal, interval, and ratio levels of measurement.\n",
        "\n",
        "   - In statistics, data can be measured at different levels,the levels of measurement describe how data values relate to each other\n",
        "\n",
        "   - The four main levels of measurement are nominal, ordinal, interval, and ratio, each increasing in complexity and providing more information.\n",
        "\n",
        "     1. Nominal Level (Categorical, No Order)\n",
        "\n",
        "       - Data is grouped into categories with no meaningful order or ranking.\n",
        "\n",
        "       - Used for classification but cannot be ranked or measured numerically.\n",
        "\n",
        "       - Example: Blood Type: A, B, AB, O, Colors: Red, Blue, Green.\n",
        "\n",
        "     2. Ordinal Level (Categorical, Ordered)\n",
        "\n",
        "       - Represents categories that have a meaningful order, but the differences between them aren’t measurable.\n",
        "\n",
        "       - Used for ranking but lacks precise numerical distances.\n",
        "\n",
        "       - Examples: Survey ratings: Poor, Average, Good, Excellent, Education levels: High School, Bachelor’s, Master’s, Ph.D.\n",
        "\n",
        "     3. Interval Level (Numerical, No True Zero)\n",
        "\n",
        "       -  Data is numerical with equal distances between values, but no true zero point (zero doesn’t mean \"none\").\n",
        "\n",
        "       - Allows for addition/subtraction but not meaningful ratios or say \"twice as much.\"\n",
        "\n",
        "       - Examples: Temperature in Celsius or Fahrenheit: 10°C, 20°C, 30°C (0°C doesn’t mean ‘no temperature’), Dates on a calendar: 2000, 2010, 2025 (Years have measurable gaps but no true zero) doesn’t represent the absence of time it's just a point on a timeline.\n",
        "\n",
        "     4. Ratio Level (Numerical, True Zero Exists)\n",
        "\n",
        "       - Most precise level, where numbers have a true zero point (meaning absence).\n",
        "\n",
        "       - Allows for addition, subtraction, multiplication, and meaningful ratios or say \"twice as much\" or \"half as much.\"\n",
        "\n",
        "       - Example: Height & Weight: 1.5m, 1.8m (0m means no height), Income: ₹25,000, ₹50,000 (₹0 means no earnings)."
      ],
      "metadata": {
        "id": "aMYht5hgzYlc"
      }
    },
    {
      "cell_type": "markdown",
      "source": [
        "11. What is the measure of central tendency?\n",
        "\n",
        "   - The measure of central tendency refers to a single value that aims to describe the center point or typical value of a dataset. It gives you a general idea of where most data points lie.\n",
        "\n",
        "   - The three main measures of central tendency are:\n",
        "\n",
        "      1. Mean (Average)\n",
        "\n",
        "        - Calculated by summing all values and dividing by the number of observations.\n",
        "\n",
        "        - Example: In a dataset of student test scores: (80 + 85 + 90 + 75 + 95) / 5 = 85 (Mean = 85).\n",
        "        \n",
        "        - Suitable for continuous and quantitative data but affected by outliers.\n",
        "\n",
        "     2. Median (Middle Value)\n",
        "\n",
        "        - The middle number when data is sorted in ascending or descending order.\n",
        "        \n",
        "        - Example: For the scores 75, 80, 85, 90, 95, the median is 85 (middle value).\n",
        "        \n",
        "        - Resistant to outliers, making it useful for skewed data distributions.\n",
        "\n",
        "     3. Mode (Most Frequent Value)\n",
        "\n",
        "        - The most commonly occurring value in a dataset.\n",
        "        \n",
        "        - Example: If the ages of a group are 22, 25, 25, 30, 35, 40, the mode is 25 (most repeated).\n",
        "        \n",
        "        - Can be used for qualitative and categorical data."
      ],
      "metadata": {
        "id": "qGiKxHMw5Qkq"
      }
    },
    {
      "cell_type": "markdown",
      "source": [
        "12. Define mean, median, and mode.\n",
        "\n",
        "    - Mean, Median and Mode are fundamental measures of central tendency in statistics, used to summarize data.\n",
        "\n",
        "      1. Mean (Average) -> The sum of all values divided by the total number of values.\n",
        "       - Example: In a dataset {5, 10, 15, 20, 25}, Mean = (5 + 10 + 15 + 20 + 25) / 5 = 15.\n",
        "\n",
        "      2. Median (Middle Value) -> The middle value when data is sorted in ascending or descending order.\n",
        "\n",
        "       - If the number of values is odd, it's the middle number.\n",
        "       \n",
        "       - If even, it's the average of the two middle numbers.\n",
        "       \n",
        "       - Example: For {5, 10, 15, 20, 25}, the median is 15 (middle number).\n",
        "\n",
        "      3. Mode (Most Frequent Value) -> The most commonly occurring value in a dataset.\n",
        "      \n",
        "       - Example: In {5, 10, 15, 15, 20}, the mode is 15 (since it appears twice).\n",
        "       \n",
        "       - There can be more than one mode (bimodal or multimodal datasets)."
      ],
      "metadata": {
        "id": "CkDmnIOI7BAP"
      }
    },
    {
      "cell_type": "markdown",
      "source": [
        "13. What is the significance of the measure of central tendency?\n",
        "\n",
        "   - The measure of central tendency is crucial in statistics because it helps summarize and simplify large datasets helping to understand the general trend or \"typical\" behavior of the data.\n",
        "\n",
        "   - Its significance lies in the following aspects:\n",
        "\n",
        "      1. Data Summarization -> Instead of analyzing every individual data point, central tendency provides a single representative value.\n",
        "      \n",
        "       - Example: If the annual incomes of employees in a company range from ₹30,000 to ₹1,50,000, the mean income gives an overall understanding of salary distribution.\n",
        "\n",
        "      2. Comparison Between Datasets -> Helps compare different groups and understand trends.\n",
        "       \n",
        "       - Example: Comparing average test scores of students across different schools using the mean or median to assess overall performance.\n",
        "\n",
        "      3. Decision-Making -> Organizations, policymakers, and businesses rely on central tendency for strategic decisions.\n",
        "      \n",
        "       - Example: If a retail store finds that the mode of purchases is for items priced around ₹500, they might stock more products in that range.\n",
        "\n",
        "      4. Understanding Data Distribution -> The choice of mean, median, or mode depends on how data is distributed:\n",
        "      \n",
        "       - Mean is best for symmetric distributions.\n",
        "       \n",
        "       - Median is useful when dealing with skewed data or outliers.\n",
        "       \n",
        "       - Mode is helpful for identifying common occurrences."
      ],
      "metadata": {
        "id": "rUIe1_F5wOc_"
      }
    },
    {
      "cell_type": "markdown",
      "source": [
        "14. What is variance, and how is it calculated?\n",
        "\n",
        "    - Variance is a statistical measure that indicates how spread out a set of data points are from the mean (average).\n",
        "    \n",
        "    - A higher variance means the data points are more dispersed, while a lower variance suggests they are closer to the mean.\n",
        "\n",
        "    - A high variance means data points are widely spread out.\n",
        "    \n",
        "    - A low variance means data points are close to the mean.\n",
        "\n",
        "    - There are two common types of variance:\n",
        "\n",
        "       1.  Population Variance (σ²) -> Used when you have data for the entire population.\n",
        "\n",
        "        - σ ^ 2 = N∑(xi −μ)2 / N\n",
        "\n",
        "        - xi = each data point\n",
        "        \n",
        "        - 𝜇 = population mean\n",
        "        \n",
        "        - N = number of data points\n",
        "\n",
        "      2. Sample Variance (s²) -> Used when you have a sample from the population.\n",
        "\n",
        "        - s2 = ∑(xi − xˉ)2 / n - 1\n",
        "\n",
        "        - xi = each data point\n",
        "\n",
        "        - 𝑥ˉ = sample mean\n",
        "        \n",
        "        - 𝑛 = number of sample data points\n",
        "        \n",
        "        - The \"n - 1\" is called Bessel’s correction — it corrects bias in small samples.\n",
        "\n",
        "      3. Example (Sample Variance) Data: 4, 8, 6\n",
        "       \n",
        "         - Step 1: Find the mean (𝑥̄):\n",
        "         \n",
        "          - xˉ = 4+8+6 / 3 = 6\n",
        "\n",
        "         - Step 2: Subtract the mean and square each difference:\n",
        "         \n",
        "          - (4 - 6)² = 4\n",
        "         \n",
        "          - (8 - 6)² = 4\n",
        "         \n",
        "          - (6 - 6)² = 0\n",
        "\n",
        "         - Find the average of squared differences:\n",
        "\n",
        "           - s2 = 4+4+0 / 3-1 = 2/8 = 4\n",
        "\n",
        "           - So, the sample variance is 4"
      ],
      "metadata": {
        "id": "ikVDu55W1XkY"
      }
    },
    {
      "cell_type": "markdown",
      "source": [
        "15. What is standard deviation, and why is it important?\n",
        "\n",
        "    - Standard deviation is a measure of how spread out the values in a dataset are around the mean (average).\n",
        "    \n",
        "    - It helps us understand how much each data point differs from the mean.\n",
        "\n",
        "    - Formula for Standard Deviation:\n",
        "     \n",
        "      - 𝜎 = square rooy ∑( 𝑥𝑖 - 𝜇)2 / 𝑁\n",
        "\n",
        "    - Where:\n",
        "      \n",
        "      - 𝑥𝑖 = Each data point\n",
        "      - 𝜇 = Mean of the dataset\n",
        "      - 𝑁 = Total number of observations\n",
        "\n",
        "    - Why is Standard Deviation Important?\n",
        "\n",
        "       1. Measures Data Variability –> Shows how much values vary from the average.\n",
        "        \n",
        "        - A small standard deviation means the values are close to the mean (low variability).\n",
        "\n",
        "        - A large standard deviation means the values are more spread out.\n",
        "\n",
        "       2. Useful in Comparisons\n",
        "       \n",
        "        - Helps compare the consistency of different datasets.\n",
        "        \n",
        "        - Example: Two students average the same marks, but one has a higher standard deviation — their performance is less consistent.\n",
        "\n",
        "       3. Identifies Outliers –> Helps detect extreme values that may affect analysis.\n",
        "\n",
        "       4. Improves Decision-Making –> Businesses and researchers use standard deviation to assess risk, stability, and trends in data.\n",
        "\n",
        "       5. Essential in Statistical Testing –> It plays a key role in hypothesis testing and probability distributions."
      ],
      "metadata": {
        "id": "flLwBgmp7CVf"
      }
    },
    {
      "cell_type": "markdown",
      "source": [
        "16. Define and explain the term range in statistics.\n",
        "\n",
        "   - The range is the simplest measure of dispersion in a dataset.\n",
        "\n",
        "   - The range is a measure of how spread out the values in a dataset are.\n",
        "   \n",
        "   - It represents the difference between the highest and lowest values in the dataset.\n",
        "\n",
        "   - Formula for Range: Range = Maximum Value − Minimum Value\n",
        "\n",
        "   - Example Calculation: Suppose we have the dataset: {5, 12, 18, 22, 30}\n",
        "      \n",
        "      - Maximum value = 30\n",
        "      \n",
        "      - Minimum value = 5\n",
        "      \n",
        "      - Range = 30 - 5 = 25\n",
        "\n",
        "    - Significance of Range:\n",
        "\n",
        "      1. Indicates Data Spread –> Helps understand how dispersed the values are.\n",
        "\n",
        "      2. Simple but Limited –> The range does not consider individual data variations, only the extremes.\n",
        "\n",
        "      3. Useful for Initial Analysis –> It’s a quick way to gauge variability before diving into more complex measures like variance or standard deviation.\n",
        "\n",
        "      4. Helps Identify Outliers ->A very large range could suggest the presence of extreme values."
      ],
      "metadata": {
        "id": "hrqCJRSYCG7e"
      }
    },
    {
      "cell_type": "markdown",
      "source": [
        "17. What is the difference between variance and standard deviation?\n",
        "\n",
        "    - Both variance and standard deviation measure how much data points spread out from the mean, but they differ in calculation, units, and interpretation.\n",
        "\n",
        "       1. Variance (σ² or s²)\n",
        "       \n",
        "        - Represents the average squared deviation from the mean.\n",
        "\n",
        "        - Represented as (σ² or s²)\n",
        "        \n",
        "        - Measures how spread out data points are.\n",
        "\n",
        "        - Formula of Variance (s²):\n",
        "        \n",
        "           - 𝑠2 = ∑(𝑥𝑖 − 𝑥ˉ)2 / 𝑛−1\n",
        "\n",
        "        - Unit of Variance: In squared units (e.g., cm², kg², marks²)\n",
        "\n",
        "        - Example: Data: 4, 6, 8\n",
        "        \n",
        "           - Mean = 6\n",
        "           \n",
        "           - Squared differences: (4–6)² = 4,  (6–6)² = 0,  (8–6)² = 4\n",
        "\n",
        "           - Variance = (4 + 0 + 4) / 2 = 4\n",
        "\n",
        "       2. Standard Deviation (σ or s)\n",
        "       \n",
        "        - Square root of variance it shows the average distance from the mean.\n",
        "\n",
        "        - Represented as (σ or s)\n",
        "        \n",
        "        - Expressed in the same units as the data, making it easier to interpret.\n",
        "\n",
        "        - Formula of Standard Deviation (s):\n",
        "        \n",
        "            - 𝑠 = s²\n",
        "\n",
        "        - Unit of Standard Deviation: In the original units of the data (e.g., cm, kg, marks) and is easier to interpret in real-world terms.\n",
        "\n",
        "        -  Example: Data: 4, 6, 8\n",
        "\n",
        "            - Mean = 6\n",
        "           \n",
        "           - Squared differences: (4–6)² = 4,  (6–6)² = 0,  (8–6)² = 4\n",
        "\n",
        "           - Variance = (4 + 0 + 4) / 2 = 4\n",
        "\n",
        "           - Standard Deviation = √4 = 2"
      ],
      "metadata": {
        "id": "fz9xQtDKDgoP"
      }
    },
    {
      "cell_type": "markdown",
      "source": [
        "18. What is skewness in a dataset?\n",
        "\n",
        "   - Skewness is a statistical measure that describes the asymmetry of a dataset’s distribution around its mean.\n",
        "   \n",
        "   - It helps determine whether data is symmetrically distributed or leans more toward one side.\n",
        "\n",
        "   - A perfectly symmetric distribution (like a normal distribution) has zero skewness.\n",
        "   \n",
        "   - If the distribution is not symmetric, it is skewed — either to the left or the right.\n",
        "\n",
        "   - Types of Skewness:\n",
        "   \n",
        "      1. Positive Skew (Right Skewed)\n",
        "\n",
        "         - Tail is longer on the right side. Most values are on the lower end.\n",
        "\n",
        "         - Mean > Median > Mode (mean is pulled by high values).\n",
        "\n",
        "         -  Skewness Value Interpretation: (Skewness > 0)\n",
        "\n",
        "         - Example: Income levels —> most people earn average/lower income, but a few earn a lot more.\n",
        "\n",
        "      2. Negative Skew (Left Skewed)\n",
        "\n",
        "         - \tTail is longer on the left side. Most values are on the higher end.\n",
        "\n",
        "         - Mean < Median < Mode (mean is pulled down by low values)\n",
        "\n",
        "         - Skeweness Value Interpretation: (Skewness < 0)\n",
        "\n",
        "         - Example: Age at retirement —> most people retire around the same age, but a few retire early.\n",
        "\n",
        "      3. Zero Skewness (Symmetrical / Normal Distribution)\n",
        "\n",
        "         - \tData is evenly distributed or perfectly balanced around the mean.\n",
        "\n",
        "         - Mean ≈ Median ≈ Mode (are equal or nearly equal).\n",
        "\n",
        "         - Skewness Value Interpretation: (Skewness = 0)\n",
        "\n",
        "         - Example: Heights of adults in a population tend to follow a normal distribution.\n",
        "\n",
        "    - Why is Skewness Important?\n",
        "\n",
        "         1. Helps understand the shape of the data distribution and Interpretate data for better decision-making.\n",
        "\n",
        "         2. Influences choice of statistical methods (e.g., mean may not be reliable in highly skewed datasets)\n",
        "\n",
        "         3. Crucial for predictive modeling and hypothesis testing."
      ],
      "metadata": {
        "id": "YHuec_VFORqj"
      }
    },
    {
      "cell_type": "markdown",
      "source": [
        "19. What does it mean if a dataset is positively or negatively skewed?\n",
        "\n",
        "    - Skewness refers to the asymmetry in a dataset’s distribution compared to a normal (symmetrical) distribution.\n",
        "\n",
        "    - If a dataset is positively or negatively skewed, it means the data is asymmetrical and not evenly distributed around the mean.\n",
        "\n",
        "      1. Positively Skewed (Right-Skewed) Distribution:\n",
        "      \n",
        "          - The tail on the right (higher values) is longer or fatter.\n",
        "          \n",
        "          - Most data values are clustered on the lower end.\n",
        "          \n",
        "          - A few unusually high values pull the mean upward.\n",
        "\n",
        "          -  Characteristics:\n",
        "          \n",
        "               - Mean > Median > Mode\n",
        "               \n",
        "               - Indicates the presence of outliers on the higher end.\n",
        "               \n",
        "               - The average value (mean) may not represent the majority well.\n",
        "\n",
        "          - Example: Income levels: Most people earn a moderate income, but a few earn extremely high incomes.\n",
        "          \n",
        "      2. Negatively Skewed (Left-Skewed) Distribution:\n",
        "\n",
        "        - The tail on the left (lower values) is longer or fatter.\n",
        "        \n",
        "        - Most data values are clustered on the higher end.\n",
        "        \n",
        "        - A few unusually low values pull the mean downward.\n",
        "\n",
        "        - Characteristics:\n",
        "        \n",
        "           - Mean < Median < Mode\n",
        "           \n",
        "           - Indicates the presence of outliers on the lower end\n",
        "           \n",
        "           - The mean may give a lower impression of the typical value.\n",
        "\n",
        "        - Example: Test scores where most students score high, but a few fail badly."
      ],
      "metadata": {
        "id": "6EE2RiWlXfKV"
      }
    },
    {
      "cell_type": "markdown",
      "source": [
        "20. Define and explain kurtosis.\n",
        "\n",
        "    - Kurtosis is a statistical measure that describes the shape of a dataset's distribution.\n",
        "\n",
        "    - Kurtosis describes the \"tailedness\" or peakedness of a data distribution compared to a normal distribution, whether the data has:\n",
        "    \n",
        "       - Heavy tails and sharp peaks (more extreme values) OR\n",
        "       \n",
        "       - Light tails and flatter peaks (fewer extreme values).\n",
        "\n",
        "    - Types of Kurtosis: There are three main types, based on how the distribution's shape compares to a normal (bell-shaped).\n",
        "\n",
        "        1. Mesokurtic (Normal Distribution, Kurtosis ≈ 0)\n",
        "\n",
        "           - The distribution has a moderate peak and tail thickness, similar to a normal curve.\n",
        "\n",
        "           - Peak Shape -> Bell shape\n",
        "\n",
        "           - Example: Heights of adults in a population usually follow a mesokurtic distribution.\n",
        "\n",
        "        2. Leptokurtic (High Kurtosis, Kurtosis > 0)\n",
        "\n",
        "            - The distribution is more peaked with longer tails—indicating frequent extreme values.\n",
        "\n",
        "            - Peak Shape -> Tall & sharp\n",
        "\n",
        "            - Example: Stock market returns often have a leptokurtic distribution due to occasional large gains or losses.\n",
        "\n",
        "        3. Platykurtic (Low Kurtosis, Kurtosis < 0)\n",
        "\n",
        "            - The distribution is flatter, with shorter tails—indicating fewer extreme values.\n",
        "\n",
        "            - Peak Shape -> Flat Peak\n",
        "\n",
        "            - Example: Uniformly distributed test scores where most students score similarly.\n",
        "\n",
        "    - Why Is Kurtosis Important?\n",
        "    \n",
        "         1. Detects outliers and unusual patterns in data.\n",
        "         \n",
        "         2. Helps understand risk and volatility in financial and economic data.\n",
        "         \n",
        "         3. Identifies the presence of outliers, affecting decisions in predictive modeling.\n",
        "         \n",
        "         4. Crucial in data visualization—histograms and box plots help reveal kurtosis visually."
      ],
      "metadata": {
        "id": "lCIr-bx6myMG"
      }
    },
    {
      "cell_type": "markdown",
      "source": [
        "21. What is the purpose of covariance?\n",
        "\n",
        "    - Covariance is a statistical measure that determines how two variables move together.\n",
        "    \n",
        "    - It helps analyze the relationship between two quantitative variables, showing whether they increase or decrease together.\n",
        "\n",
        "    - Covariance Formula:\n",
        "\n",
        "         - Cov (𝑋,𝑌) = ∑ ( 𝑥𝑖 − 𝑥ˉ)(𝑦𝑖 − 𝑦ˉ) / 𝑛−1\n",
        "\n",
        "         - 𝑥𝑖, 𝑦𝑖 : Data points\n",
        "\n",
        "         - 𝑥ˉ, 𝑦ˉ : Means of variables X and Y\n",
        "\n",
        "         - n: Number of data points\n",
        "\n",
        "    - Interpreting Covariance:\n",
        "\n",
        "        - Covariance > 0 => Positive relationship, as one increases, so does the other.\n",
        "\n",
        "        - Covariance < 0 => Negative relationship — as one increases, the other decreases.\n",
        "\n",
        "        - Covariance ≈ 0\t=> \tNo linear relationship between the variables.\n",
        "\n",
        "    - Purpose of Covariance -> To determine how two variables change together\n",
        "    \n",
        "        - Do they increase or decrease together?\n",
        "        \n",
        "        - Does one increase while the other decreases?\n",
        "        \n",
        "        - Are they unrelated in movement?"
      ],
      "metadata": {
        "id": "xlIs-X5hp3Qg"
      }
    },
    {
      "cell_type": "markdown",
      "source": [
        "22. What does correlation measure in statistics?\n",
        "\n",
        "     - Correlation measures the strength and direction of the relationship between two variables. It helps determine whether changes in one variable are associated with changes in another.\n",
        "\n",
        "     - Purpose of Correlation: Determine\n",
        "     \n",
        "        - How closely two variables move together\n",
        "        \n",
        "        - Whether the relationship is positive, negative, or none\n",
        "        \n",
        "        - How strong that relationship is\n",
        "\n",
        "    - Correlation formula:\n",
        "\n",
        "        - r = Cov(X,Y) / (σX ⋅ σY)\n",
        "\n",
        "     - Correlation Coefficient (r) -> A numerical value ranging from -1 to +1, indicating strength and direction. Unitless (−1 ≤ r ≤ 1)\n",
        "\n",
        "     - Types of Relationships:\n",
        "     \n",
        "        1. r = +1 → Perfect positive correlation,  as one variable increases, the other increases.\n",
        "        \n",
        "        2. r = -1 → Perfect negative correlation, as one increases, the other decreases.\n",
        "        \n",
        "        3.  r = 0 → No correlation, no linear relationship."
      ],
      "metadata": {
        "id": "u-fXUa9xzzjI"
      }
    },
    {
      "cell_type": "markdown",
      "source": [
        "23. What is the difference between covariance and correlation?\n",
        "\n",
        "    - Both covariance and correlation measure how two variables move together — but they differ in scale, interpretation, and usefulness.\n",
        "\n",
        "      1. Covariance\n",
        "      \n",
        "         - Measures the direction of the relationship (positive or negative).\n",
        "         \n",
        "         - Does not standardize values, so its magnitude is difficult to interpret.\n",
        "         \n",
        "         - Formula:\n",
        "\n",
        "            - Cov (𝑋,𝑌) = ∑ ( 𝑥𝑖 − 𝑥ˉ)(𝑦𝑖 − 𝑦ˉ) / 𝑛−1\n",
        "\n",
        "            - 𝑥𝑖, 𝑦𝑖 : Data points\n",
        "\n",
        "            - 𝑥ˉ, 𝑦ˉ : Means of variables X and Y\n",
        "\n",
        "            - n: Number of data points\n",
        "\n",
        "        - Range of values -> Covariance values ranges between (−∞ to +∞) which is harder to interpret directly (unbound)\n",
        "\n",
        "        - Unit type -> Covariance\tDepends on units of X and Y (e.g., cm·kg).\n",
        "\n",
        "        - Interpretation -> Covariance\ttells only the direction of relationship (positive, negative, none).\n",
        "\n",
        "        - Example: If stock A and stock B have a positive covariance, their prices tend to rise and fall together.\n",
        "\n",
        "     2. Correlation\n",
        "     \n",
        "        - Measures both strength and direction of the relationship.\n",
        "        \n",
        "        - Standardized between -1 and +1, making it easier to interpret.\n",
        "\n",
        "        - Formula:\n",
        "\n",
        "            - r = Cov(X,Y) / (σX ⋅ σY)\n",
        "\n",
        "            - Where 𝜎𝑋 and 𝜎𝑌 are the standard deviations of 𝑋 and 𝑌.\n",
        "\n",
        "        - Range of values -> Correlation values ranges between (–1 to +1) which is easy to interpret.\n",
        "\n",
        "        - Unit type -> Correlation are unitless (pure number)\n",
        "\n",
        "        - Interpretation -> Correlation\ttells both the direction and how strong the relationship is.\n",
        "\n",
        "        - Example: If the correlation between study hours and exam scores is +0.85, it indicates a strong positive relationship."
      ],
      "metadata": {
        "id": "qUE2DdUx4QvI"
      }
    },
    {
      "cell_type": "markdown",
      "source": [
        "24. What are some real-world applications of statistics?\n",
        "\n",
        "    - Statistics is everywhere shaping decisions, solving problems, and revealing insights in countless fields.\n",
        "\n",
        "    - Here are  real-world applications of statistics across various fields:\n",
        "\n",
        "       1. Business & Marketing\n",
        "       \n",
        "           - Companies analyze customer behavior, sales trends, and product preferences.\n",
        "\n",
        "           - Example: Amazon uses statistics to recommend products based on past purchases and user behavior.\n",
        "\n",
        "      2.  Healthcare\n",
        "      \n",
        "          - Hospitals use statistics in medical research, diagnostics, and public health.\n",
        "          \n",
        "          - Example: Tracking the effectiveness of a new drug in clinical trials through statistical testing.\n",
        "\n",
        "     3.  Education\n",
        "     \n",
        "          - Schools and universities assess student performance and curriculum effectiveness.\n",
        "          \n",
        "          - Example: Standardized test scores are statistically analyzed to evaluate school performance.\n",
        "\n",
        "     4. Government & Policy Making\n",
        "     \n",
        "         - Governments use statistics for planning, budgeting, and census analysis.\n",
        "         \n",
        "         - Example: National census data is used to allocate resources and design policies.\n",
        "\n",
        "     5. Finance & Investing\n",
        "     \n",
        "        -  Banks and investors analyze market trends and assess risks.\n",
        "        \n",
        "        - Example: Stock analysts use statistical models to predict price movements and volatility.\n",
        "\n",
        "    6. Environmental Science & Climate Studies\n",
        "    \n",
        "         - Used in weather forecasting to predict storms, heat waves, and rainfall trends.\n",
        "         \n",
        "         - Helps analyze climate change patterns based on historical temperature data.\n",
        "\n",
        "         - Example: In wildlife conservation, statistics track endangered species and biodiversity.\n",
        "\n",
        "    7. Sports & Performance Analytics\n",
        "    \n",
        "         - Teams use statistics to track player performance metrics like speed, accuracy, and endurance.\n",
        "         \n",
        "         - Helps in game strategy optimization by analyzing historical data of opponents.\n",
        "         \n",
        "         - Example: Fantasy sports leagues rely on predictive modeling to draft winning teams."
      ],
      "metadata": {
        "id": "y1YD1qgY7r9z"
      }
    },
    {
      "cell_type": "markdown",
      "source": [
        "## Practical Part"
      ],
      "metadata": {
        "id": "lhiQsXpl9XND"
      }
    },
    {
      "cell_type": "code",
      "source": [
        "# 1. How do you calculate the mean, median, and mode of a dataset?\n",
        "\n",
        "\n",
        "import numpy as np\n",
        "import pandas as pd\n",
        "import statistics\n",
        "\n",
        "# Sample dataset\n",
        "data = [10, 15, 20, 25, 30, 15, 25, 10, 30, 30]\n",
        "\n",
        "# Calculating Mean\n",
        "mean_value = np.mean(data)\n",
        "print(f\"Mean: {mean_value}\")\n",
        "\n",
        "# Calculating Median\n",
        "median_value = np.median(data)\n",
        "print(f\"Median: {median_value}\")\n",
        "\n",
        "# Calculating Mode\n",
        "mode_value = statistics.mode(data)\n",
        "print(f\"Mode: {mode_value}\")"
      ],
      "metadata": {
        "id": "Y6-hTN-S9b15",
        "colab": {
          "base_uri": "https://localhost:8080/"
        },
        "outputId": "198e36ae-09c1-4610-ad6e-57d28e066b56"
      },
      "execution_count": null,
      "outputs": [
        {
          "output_type": "stream",
          "name": "stdout",
          "text": [
            "Mean: 21.0\n",
            "Median: 22.5\n",
            "Mode: 30\n"
          ]
        }
      ]
    },
    {
      "cell_type": "code",
      "source": [
        "# 2. Write a Python program to compute the variance and standard deviation of a dataset\n",
        "\n",
        "import statistics\n",
        "\n",
        "# Sample dataset\n",
        "data = [10, 12, 23, 23, 16, 23, 21, 16]\n",
        "\n",
        "# Calculate variance and standard deviation\n",
        "variance = statistics.variance(data)\n",
        "std_deviation = statistics.stdev(data)\n",
        "\n",
        "# Display the results\n",
        "print(\"Variance:\", variance)\n",
        "print(\"Standard Deviation:\", std_deviation)"
      ],
      "metadata": {
        "colab": {
          "base_uri": "https://localhost:8080/"
        },
        "id": "11zrfQvLf63v",
        "outputId": "73194777-e309-4fcb-e921-21fefd90b8c3"
      },
      "execution_count": null,
      "outputs": [
        {
          "output_type": "stream",
          "name": "stdout",
          "text": [
            "Variance: 27.428571428571427\n",
            "Standard Deviation: 5.237229365663818\n"
          ]
        }
      ]
    },
    {
      "cell_type": "code",
      "source": [
        "# 3. Create a dataset and classify it into nominal, ordinal, interval, and ratio types\n",
        "\n",
        "import pandas as pd\n",
        "\n",
        "# Creating a dataset\n",
        "data = {\n",
        "    \"Student_ID\": [101, 102, 103, 104, 105],  # Nominal (Unique identifiers)\n",
        "    \"Performance_Level\": [\"Excellent\", \"Good\", \"Average\", \"Poor\", \"Very Poor\"],  # Ordinal (Ordered categories)\n",
        "    \"Exam_Score\": [85, 75, 90, 60, 55],  # Interval (Numerical but no true zero)\n",
        "    \"Height_cm\": [160, 170, 165, 175, 180],  # Ratio (Numerical with true zero)\n",
        "}\n",
        "\n",
        "# Creating DataFrame\n",
        "df = pd.DataFrame(data)\n",
        "\n",
        "# Display dataset\n",
        "print(df)"
      ],
      "metadata": {
        "colab": {
          "base_uri": "https://localhost:8080/"
        },
        "id": "Z0WHcTm_iGyp",
        "outputId": "573e8105-207c-4fec-cb53-249495e26707"
      },
      "execution_count": null,
      "outputs": [
        {
          "output_type": "stream",
          "name": "stdout",
          "text": [
            "   Student_ID Performance_Level  Exam_Score  Height_cm\n",
            "0         101         Excellent          85        160\n",
            "1         102              Good          75        170\n",
            "2         103           Average          90        165\n",
            "3         104              Poor          60        175\n",
            "4         105         Very Poor          55        180\n"
          ]
        }
      ]
    },
    {
      "cell_type": "code",
      "source": [
        "# 4. Implement sampling techniques like random sampling and stratified sampling.\n",
        "\n",
        "# Sample data with two strata: Gender (Male/Female)\n",
        "data = {\n",
        "    'ID': range(1, 21),\n",
        "    'Name': ['Student'+str(i) for i in range(1, 21)],\n",
        "    'Gender': ['Male']*10 + ['Female']*10,\n",
        "    'Score': np.random.randint(50, 100, size=20)\n",
        "}\n",
        "\n",
        "df = pd.DataFrame(data)\n",
        "print(\"Original Dataset:\\n\", df)\n",
        "\n",
        "\n",
        "# a. Random Sampling\n",
        "# Randomly select 5 students\n",
        "random_sample = df.sample(n=5, random_state=42)\n",
        "print(\"\\nRandom Sample:\\n\", random_sample)\n",
        "\n",
        "# b. Stratified Sampling\n",
        "# Stratified sample: 50% of each gender\n",
        "stratified_sample, _ = train_test_split(df,\n",
        "                                        test_size=0.5,\n",
        "                                        stratify=df['Gender'],\n",
        "                                        random_state=42)\n",
        "print(\"\\nStratified Sample:\\n\", stratified_sample)"
      ],
      "metadata": {
        "colab": {
          "base_uri": "https://localhost:8080/"
        },
        "id": "vNS-Wuy7kEgR",
        "outputId": "ff9f3cf6-8179-4cee-ee41-aac983d5ba4b"
      },
      "execution_count": null,
      "outputs": [
        {
          "output_type": "stream",
          "name": "stdout",
          "text": [
            "Original Dataset:\n",
            "     ID       Name  Gender  Score\n",
            "0    1   Student1    Male     94\n",
            "1    2   Student2    Male     99\n",
            "2    3   Student3    Male     90\n",
            "3    4   Student4    Male     60\n",
            "4    5   Student5    Male     89\n",
            "5    6   Student6    Male     81\n",
            "6    7   Student7    Male     85\n",
            "7    8   Student8    Male     99\n",
            "8    9   Student9    Male     73\n",
            "9   10  Student10    Male     64\n",
            "10  11  Student11  Female     77\n",
            "11  12  Student12  Female     83\n",
            "12  13  Student13  Female     75\n",
            "13  14  Student14  Female     90\n",
            "14  15  Student15  Female     99\n",
            "15  16  Student16  Female     54\n",
            "16  17  Student17  Female     71\n",
            "17  18  Student18  Female     77\n",
            "18  19  Student19  Female     64\n",
            "19  20  Student20  Female     87\n",
            "\n",
            "Random Sample:\n",
            "     ID       Name  Gender  Score\n",
            "0    1   Student1    Male     94\n",
            "17  18  Student18  Female     77\n",
            "15  16  Student16  Female     54\n",
            "1    2   Student2    Male     99\n",
            "8    9   Student9    Male     73\n",
            "\n",
            "Stratified Sample:\n",
            "     ID       Name  Gender  Score\n",
            "3    4   Student4    Male     60\n",
            "15  16  Student16  Female     54\n",
            "18  19  Student19  Female     64\n",
            "1    2   Student2    Male     99\n",
            "5    6   Student6    Male     81\n",
            "0    1   Student1    Male     94\n",
            "10  11  Student11  Female     77\n",
            "8    9   Student9    Male     73\n",
            "11  12  Student12  Female     83\n",
            "17  18  Student18  Female     77\n"
          ]
        }
      ]
    },
    {
      "cell_type": "code",
      "source": [
        "# 5. Write a Python function to calculate the range of a dataset.\n",
        "\n",
        "def calculate_range(data):\n",
        "    \"\"\"\n",
        "    Function to compute the range of a dataset.\n",
        "    Range = Maximum value - Minimum value\n",
        "    \"\"\"\n",
        "    if not data:\n",
        "        return \"Dataset is empty\"\n",
        "\n",
        "    return max(data) - min(data)\n",
        "\n",
        "# Example dataset\n",
        "dataset = [12, 25, 40, 55, 60, 75, 90]\n",
        "\n",
        "# Compute range\n",
        "range_value = calculate_range(dataset)\n",
        "print(f\"Range of dataset: {range_value}\")"
      ],
      "metadata": {
        "id": "yqxHm3lOlYjn",
        "colab": {
          "base_uri": "https://localhost:8080/"
        },
        "outputId": "5dba9a2b-ce2a-4914-fc6f-5b623a275e23"
      },
      "execution_count": null,
      "outputs": [
        {
          "output_type": "stream",
          "name": "stdout",
          "text": [
            "Range of dataset: 78\n"
          ]
        }
      ]
    },
    {
      "cell_type": "code",
      "source": [
        "# 6. Create a dataset and plot its histogram to visualize skewness\n",
        "\n",
        "\n",
        "import numpy as np\n",
        "import pandas as pd\n",
        "import seaborn as sns\n",
        "import matplotlib.pyplot as plt\n",
        "from scipy.stats import skew\n",
        "\n",
        "# Generate a right-skewed dataset (positively skewed)\n",
        "data = np.random.exponential(scale=2, size=1000)  # Using exponential distribution\n",
        "\n",
        "# Convert to DataFrame\n",
        "df = pd.DataFrame(data, columns=[\"Values\"])\n",
        "\n",
        "# Calculate skewness\n",
        "skewness_value = skew(df[\"Values\"])\n",
        "\n",
        "# Plot histogram with density curve\n",
        "plt.figure(figsize=(8, 5))\n",
        "sns.histplot(df[\"Values\"], bins=30, kde=True, color=\"blue\")\n",
        "plt.axvline(df[\"Values\"].mean(), color=\"red\", linestyle=\"dashed\", label=f\"Mean: {df['Values'].mean():.2f}\")\n",
        "plt.title(f\"Histogram of Dataset (Skewness = {skewness_value:.2f})\")\n",
        "plt.legend()\n",
        "plt.show()"
      ],
      "metadata": {
        "colab": {
          "base_uri": "https://localhost:8080/",
          "height": 487
        },
        "id": "96S_YrsYl7b9",
        "outputId": "f4782802-f751-4ba3-a816-98585f75ec60"
      },
      "execution_count": null,
      "outputs": [
        {
          "output_type": "display_data",
          "data": {
            "text/plain": [
              "<Figure size 800x500 with 1 Axes>"
            ],
            "image/png": "[encoded data removed]"
          },
          "metadata": {}
        }
      ]
    },
    {
      "cell_type": "code",
      "source": [
        "# 7. Calculate skewness and kurtosis of a dataset using Python libraries\n",
        "\n",
        "import numpy as np\n",
        "import pandas as pd\n",
        "from scipy.stats import skew, kurtosis\n",
        "\n",
        "# Sample dataset (you can change this to your own data)\n",
        "data = [12, 15, 14, 10, 8, 9, 13, 14, 15, 100]  # Notice the outlier at 100\n",
        "\n",
        "# Convert to pandas Series for convenience\n",
        "series = pd.Series(data)\n",
        "\n",
        "# Calculate skewness and kurtosis\n",
        "skewness_value = skew(series)\n",
        "kurtosis_value = kurtosis(series)  # By default, Fisher's definition (normal = 0)\n",
        "\n",
        "# Print the results\n",
        "print(\"Dataset:\", data)\n",
        "print(\"Skewness:\", skewness_value)\n",
        "print(\"Kurtosis:\", kurtosis_value)"
      ],
      "metadata": {
        "colab": {
          "base_uri": "https://localhost:8080/"
        },
        "id": "3U5PuiECpSv2",
        "outputId": "03b23007-d67e-483f-99b6-0c943830603f"
      },
      "execution_count": null,
      "outputs": [
        {
          "output_type": "stream",
          "name": "stdout",
          "text": [
            "Dataset: [12, 15, 14, 10, 8, 9, 13, 14, 15, 100]\n",
            "Skewness: 2.6266698009743177\n",
            "Kurtosis: 4.988536658746093\n"
          ]
        }
      ]
    },
    {
      "cell_type": "code",
      "source": [
        "# 8. Generate a dataset and demonstrate positive and negative skewness\n",
        "\n",
        "import numpy as np\n",
        "import pandas as pd\n",
        "import matplotlib.pyplot as plt\n",
        "import seaborn as sns\n",
        "from scipy.stats import skew\n",
        "\n",
        "# Generate positively skewed data (right tail)\n",
        "positive_skew_data = np.random.exponential(scale=2.0, size=1000)\n",
        "\n",
        "# Generate negatively skewed data (left tail)\n",
        "negative_skew_data = -1 * np.random.exponential(scale=2.0, size=1000) + 10\n",
        "\n",
        "# Convert to DataFrames\n",
        "df_pos = pd.DataFrame(positive_skew_data, columns=[\"Value\"])\n",
        "df_neg = pd.DataFrame(negative_skew_data, columns=[\"Value\"])\n",
        "\n",
        "# Calculate skewness\n",
        "skew_pos = skew(df_pos[\"Value\"])\n",
        "skew_neg = skew(df_neg[\"Value\"])\n",
        "\n",
        "# Plotting\n",
        "plt.figure(figsize=(14, 6))\n",
        "\n",
        "# Positive Skew\n",
        "plt.subplot(1, 2, 1)\n",
        "sns.histplot(df_pos[\"Value\"], bins=30, kde=True, color=\"orange\")\n",
        "plt.title(f'Positively Skewed Distribution\\nSkewness = {skew_pos:.2f}')\n",
        "plt.xlabel(\"Value\")\n",
        "plt.ylabel(\"Frequency\")\n",
        "\n",
        "# Negative Skew\n",
        "plt.subplot(1, 2, 2)\n",
        "sns.histplot(df_neg[\"Value\"], bins=30, kde=True, color=\"blue\")\n",
        "plt.title(f'Negatively Skewed Distribution\\nSkewness = {skew_neg:.2f}')\n",
        "plt.xlabel(\"Value\")\n",
        "plt.ylabel(\"Frequency\")\n",
        "\n",
        "plt.tight_layout()\n",
        "plt.show()"
      ],
      "metadata": {
        "colab": {
          "base_uri": "https://localhost:8080/",
          "height": 545
        },
        "id": "1w_x1t0Rp15r",
        "outputId": "7793d66d-2885-48e3-9c4a-e59a2c9b6838"
      },
      "execution_count": null,
      "outputs": [
        {
          "output_type": "display_data",
          "data": {
            "text/plain": [
              "<Figure size 1400x600 with 2 Axes>"
            ],
            "image/png": "[encoded data removed]"
          },
          "metadata": {}
        }
      ]
    },
    {
      "cell_type": "code",
      "source": [
        "# 9. Write a Python script to calculate covariance between two datasets\n",
        "\n",
        "import numpy as np\n",
        "import pandas as pd\n",
        "\n",
        "# Sample datasets\n",
        "data1 = [5, 10, 15, 20, 25]\n",
        "data2 = [30, 35, 40, 45, 50]\n",
        "\n",
        "# Convert datasets to pandas Series\n",
        "series1 = pd.Series(data1)\n",
        "series2 = pd.Series(data2)\n",
        "\n",
        "# Calculate covariance using numpy\n",
        "covariance = np.cov(series1, series2)[0, 1]\n",
        "\n",
        "# Alternatively, using pandas' cov method\n",
        "cov_pandas = series1.cov(series2)\n",
        "\n",
        "# Display results\n",
        "print(f\"Covariance (using numpy): {covariance}\")\n",
        "print(f\"Covariance (using pandas): {cov_pandas}\")"
      ],
      "metadata": {
        "colab": {
          "base_uri": "https://localhost:8080/"
        },
        "id": "3MwqoEnsq1jt",
        "outputId": "24080a26-eb20-4707-aa6a-07c505d1383e"
      },
      "execution_count": null,
      "outputs": [
        {
          "output_type": "stream",
          "name": "stdout",
          "text": [
            "Covariance (using numpy): 62.5\n",
            "Covariance (using pandas): 62.5\n"
          ]
        }
      ]
    },
    {
      "cell_type": "code",
      "source": [
        "# 10. Write a Python script to calculate the correlation coefficient between two datasets\n",
        "\n",
        "import numpy as np\n",
        "import pandas as pd\n",
        "from scipy.stats import pearsonr\n",
        "\n",
        "# Sample datasets\n",
        "data1 = [5, 10, 15, 20, 25]\n",
        "data2 = [30, 35, 40, 45, 50]\n",
        "\n",
        "# Convert datasets to pandas Series\n",
        "series1 = pd.Series(data1)\n",
        "series2 = pd.Series(data2)\n",
        "\n",
        "# Calculate correlation using numpy\n",
        "correlation_numpy = np.corrcoef(series1, series2)[0, 1]\n",
        "\n",
        "# Calculate correlation using pandas\n",
        "correlation_pandas = series1.corr(series2)\n",
        "\n",
        "# Calculate Pearson correlation coefficient using scipy\n",
        "correlation_scipy, _ = pearsonr(series1, series2)\n",
        "\n",
        "# Display results\n",
        "print(f\"Correlation (using numpy): {correlation_numpy}\")\n",
        "print(f\"Correlation (using pandas): {correlation_pandas}\")\n",
        "print(f\"Pearson Correlation (using scipy): {correlation_scipy}\")"
      ],
      "metadata": {
        "colab": {
          "base_uri": "https://localhost:8080/"
        },
        "id": "R4HX4oFFrMQg",
        "outputId": "d96b67ea-fc47-4cb5-d4d9-53cd6ae036ff"
      },
      "execution_count": null,
      "outputs": [
        {
          "output_type": "stream",
          "name": "stdout",
          "text": [
            "Correlation (using numpy): 1.0\n",
            "Correlation (using pandas): 1.0\n",
            "Pearson Correlation (using scipy): 0.9999999999999998\n"
          ]
        }
      ]
    },
    {
      "cell_type": "code",
      "source": [
        "# 11. Create a scatter plot to visualize the relationship between two variables\n",
        "\n",
        "import matplotlib.pyplot as plt\n",
        "import seaborn as sns\n",
        "import numpy as np\n",
        "\n",
        "# Sample datasets\n",
        "data1 = [5, 10, 15, 20, 25]\n",
        "data2 = [30, 35, 40, 45, 50]\n",
        "\n",
        "# Create a scatter plot\n",
        "plt.figure(figsize=(8, 6))\n",
        "sns.scatterplot(x=data1, y=data2, color='blue', s=100)\n",
        "\n",
        "# Add title and labels\n",
        "plt.title('Scatter Plot of Data1 vs Data2', fontsize=14)\n",
        "plt.xlabel('Data1', fontsize=12)\n",
        "plt.ylabel('Data2', fontsize=12)\n",
        "\n",
        "# Display the plot\n",
        "plt.grid(True)\n",
        "plt.tight_layout()\n",
        "plt.show()"
      ],
      "metadata": {
        "colab": {
          "base_uri": "https://localhost:8080/",
          "height": 607
        },
        "id": "vj5_KQUOrfco",
        "outputId": "c960c64a-d81f-4881-d55e-c21f47703d59"
      },
      "execution_count": null,
      "outputs": [
        {
          "output_type": "display_data",
          "data": {
            "text/plain": [
              "<Figure size 800x600 with 1 Axes>"
            ],
            "image/png": "[encoded data removed]"
          },
          "metadata": {}
        }
      ]
    },
    {
      "cell_type": "code",
      "source": [
        "# 12. Implement and compare simple random sampling and systematic sampling\n",
        "\n",
        "import numpy as np\n",
        "import pandas as pd\n",
        "import random\n",
        "import matplotlib.pyplot as plt\n",
        "\n",
        "# Create a sample dataset (e.g., 1000 individuals with ages)\n",
        "data = {\n",
        "    'ID': np.arange(1, 1001),  # IDs from 1 to 1000\n",
        "    'Age': np.random.randint(18, 80, 1000)  # Random ages between 18 and 80\n",
        "}\n",
        "\n",
        "# Create DataFrame\n",
        "df = pd.DataFrame(data)\n",
        "\n",
        "# 1. Simple Random Sampling\n",
        "random_sample = df.sample(n=100, random_state=42)\n",
        "\n",
        "# 2. Systematic Sampling\n",
        "k = 10  # Sample every 10th individual\n",
        "systematic_sample = df.iloc[::k, :].head(100)  # Pick every 10th element\n",
        "\n",
        "# Display the samples\n",
        "print(\"Simple Random Sample (first 5 entries):\\n\", random_sample.head())\n",
        "print(\"\\nSystematic Sample (first 5 entries):\\n\", systematic_sample.head())\n",
        "\n",
        "# Visualization: Plotting the Age distribution for both sampling methods\n",
        "plt.figure(figsize=(14, 6))\n",
        "\n",
        "# Simple Random Sample Plot\n",
        "plt.subplot(1, 2, 1)\n",
        "plt.hist(random_sample['Age'], bins=20, color='skyblue', edgecolor='black')\n",
        "plt.title('Simple Random Sampling')\n",
        "plt.xlabel('Age')\n",
        "plt.ylabel('Frequency')\n",
        "\n",
        "# Systematic Sample Plot\n",
        "plt.subplot(1, 2, 2)\n",
        "plt.hist(systematic_sample['Age'], bins=20, color='salmon', edgecolor='black')\n",
        "plt.title('Systematic Sampling')\n",
        "plt.xlabel('Age')\n",
        "plt.ylabel('Frequency')\n",
        "\n",
        "plt.tight_layout()\n",
        "plt.show()"
      ],
      "metadata": {
        "colab": {
          "base_uri": "https://localhost:8080/",
          "height": 805
        },
        "id": "D1sli3bDrvWw",
        "outputId": "cc9507f4-8ea9-43ef-f6c4-9454aa589cf4"
      },
      "execution_count": null,
      "outputs": [
        {
          "output_type": "stream",
          "name": "stdout",
          "text": [
            "Simple Random Sample (first 5 entries):\n",
            "       ID  Age\n",
            "521  522   71\n",
            "737  738   54\n",
            "740  741   30\n",
            "660  661   23\n",
            "411  412   79\n",
            "\n",
            "Systematic Sample (first 5 entries):\n",
            "     ID  Age\n",
            "0    1   76\n",
            "10  11   18\n",
            "20  21   67\n",
            "30  31   46\n",
            "40  41   70\n"
          ]
        },
        {
          "output_type": "display_data",
          "data": {
            "text/plain": [
              "<Figure size 1400x600 with 2 Axes>"
            ],
            "image/png": "[encoded data removed]"
          },
          "metadata": {}
        }
      ]
    },
    {
      "cell_type": "code",
      "source": [
        "# 13. Calculate the mean, median, and mode of grouped data\n",
        "\n",
        "#Grouped data refers to data that is categorized into class intervals and frequencies\n",
        "\n",
        "import pandas as pd\n",
        "\n",
        "# Define grouped data\n",
        "data = {\n",
        "    \"Class Interval\": [\"0-10\", \"10-20\", \"20-30\", \"30-40\", \"40-50\"],\n",
        "    \"Frequency\": [5, 8, 15, 16, 6]\n",
        "}\n",
        "\n",
        "# Create DataFrame\n",
        "df = pd.DataFrame(data)\n",
        "\n",
        "# Extract lower and upper bounds\n",
        "df[\"Lower\"] = df[\"Class Interval\"].apply(lambda x: int(x.split(\"-\")[0]))\n",
        "df[\"Upper\"] = df[\"Class Interval\"].apply(lambda x: int(x.split(\"-\")[1]))\n",
        "\n",
        "# Calculate class midpoints\n",
        "df[\"Midpoint\"] = (df[\"Lower\"] + df[\"Upper\"]) / 2\n",
        "\n",
        "# Calculate mean\n",
        "total_freq = df[\"Frequency\"].sum()\n",
        "mean = (df[\"Midpoint\"] * df[\"Frequency\"]).sum() / total_freq\n",
        "\n",
        "# Cumulative Frequency\n",
        "df[\"Cumulative Frequency\"] = df[\"Frequency\"].cumsum()\n",
        "\n",
        "# Median calculation\n",
        "n = total_freq\n",
        "median_class_index = df[df[\"Cumulative Frequency\"] >= n / 2].index[0]\n",
        "L = df.loc[median_class_index, \"Lower\"]\n",
        "F = df.loc[median_class_index, \"Frequency\"]\n",
        "CF = df.loc[median_class_index - 1, \"Cumulative Frequency\"] if median_class_index > 0 else 0\n",
        "h = df.loc[median_class_index, \"Upper\"] - df.loc[median_class_index, \"Lower\"]\n",
        "median = L + ((n / 2 - CF) / F) * h\n",
        "\n",
        "# Mode calculation\n",
        "modal_class_index = df[\"Frequency\"].idxmax()\n",
        "f1 = df.loc[modal_class_index, \"Frequency\"]\n",
        "f0 = df.loc[modal_class_index - 1, \"Frequency\"] if modal_class_index > 0 else 0\n",
        "f2 = df.loc[modal_class_index + 1, \"Frequency\"] if modal_class_index + 1 < len(df) else 0\n",
        "L_modal = df.loc[modal_class_index, \"Lower\"]\n",
        "h_modal = df.loc[modal_class_index, \"Upper\"] - df.loc[modal_class_index, \"Lower\"]\n",
        "mode = L_modal + ((f1 - f0) / ((2 * f1) - f0 - f2)) * h_modal if (2 * f1 - f0 - f2) != 0 else None\n",
        "\n",
        "# Display results\n",
        "print(\"Mean:\", round(mean, 2))\n",
        "print(\"Median:\", round(median, 2))\n",
        "print(\"Mode:\", round(mode, 2) if mode else \"Cannot compute mode\")"
      ],
      "metadata": {
        "colab": {
          "base_uri": "https://localhost:8080/"
        },
        "id": "wErEbDQHkSHj",
        "outputId": "6a473750-c163-46e3-b9ab-32168b76ed00"
      },
      "execution_count": 1,
      "outputs": [
        {
          "output_type": "stream",
          "name": "stdout",
          "text": [
            "Mean: 27.0\n",
            "Median: 28.0\n",
            "Mode: 30.91\n"
          ]
        }
      ]
    },
    {
      "cell_type": "code",
      "source": [
        "# 14. Simulate data using Python and calculate its central tendency and dispersion.\n",
        "\n",
        "import numpy as np\n",
        "import pandas as pd\n",
        "from scipy import stats\n",
        "\n",
        "# 1. Simulate data (e.g., 100 normally distributed values with mean=50, std=10)\n",
        "np.random.seed(0)  # for reproducibility\n",
        "data = np.random.normal(loc=50, scale=10, size=100)\n",
        "\n",
        "# Convert to a pandas Series\n",
        "data_series = pd.Series(data)\n",
        "\n",
        "# 2. Central Tendency\n",
        "mean = data_series.mean()\n",
        "median = data_series.median()\n",
        "mode = data_series.mode().iloc[0]  # use iloc in case of multiple modes\n",
        "\n",
        "# 3. Dispersion\n",
        "variance = data_series.var()\n",
        "std_dev = data_series.std()\n",
        "data_range = data_series.max() - data_series.min()\n",
        "\n",
        "# 4. Display the results\n",
        "print(\"Central Tendency:\")\n",
        "print(f\"Mean: {mean:.2f}\")\n",
        "print(f\"Median: {median:.2f}\")\n",
        "print(f\"Mode: {mode:.2f}\")\n",
        "\n",
        "print(\"\\nDispersion:\")\n",
        "print(f\"Variance: {variance:.2f}\")\n",
        "print(f\"Standard Deviation: {std_dev:.2f}\")\n",
        "print(f\"Range: {data_range:.2f}\")"
      ],
      "metadata": {
        "colab": {
          "base_uri": "https://localhost:8080/"
        },
        "id": "2q05ygHQk_c1",
        "outputId": "037cc8b7-faa3-4e9c-fc5d-2584c4a66d36"
      },
      "execution_count": 2,
      "outputs": [
        {
          "output_type": "stream",
          "name": "stdout",
          "text": [
            "Central Tendency:\n",
            "Mean: 50.60\n",
            "Median: 50.94\n",
            "Mode: 24.47\n",
            "\n",
            "Dispersion:\n",
            "Variance: 102.61\n",
            "Standard Deviation: 10.13\n",
            "Range: 48.23\n"
          ]
        }
      ]
    },
    {
      "cell_type": "code",
      "source": [
        "# 15. Use NumPy or pandas to summarize a dataset’s descriptive statistics.\n",
        "\n",
        "import numpy as np\n",
        "import pandas as pd\n",
        "\n",
        "# Simulate a dataset: 100 rows, 3 columns (e.g., 'Math', 'Science', 'English' scores)\n",
        "np.random.seed(42)\n",
        "data = {\n",
        "    'Math': np.random.normal(70, 10, 100),\n",
        "    'Science': np.random.normal(65, 12, 100),\n",
        "    'English': np.random.normal(75, 8, 100)\n",
        "}\n",
        "\n",
        "df = pd.DataFrame(data)\n",
        "\n",
        "# Use pandas describe() to get descriptive statistics\n",
        "summary = df.describe()\n",
        "\n",
        "print(summary)"
      ],
      "metadata": {
        "colab": {
          "base_uri": "https://localhost:8080/"
        },
        "id": "3e1Jcy1_l1FZ",
        "outputId": "9458a336-8ffa-4638-c039-c6f000a5df7c"
      },
      "execution_count": 3,
      "outputs": [
        {
          "output_type": "stream",
          "name": "stdout",
          "text": [
            "             Math     Science     English\n",
            "count  100.000000  100.000000  100.000000\n",
            "mean    68.961535   65.267655   75.519170\n",
            "std      9.081684   11.444028    8.674263\n",
            "min     43.802549   41.974745   49.069861\n",
            "25%     63.990943   55.332074   69.756452\n",
            "50%     68.730437   66.009286   75.781566\n",
            "75%     74.059521   71.458045   80.635500\n",
            "max     88.522782   97.642030  105.821852\n"
          ]
        }
      ]
    },
    {
      "cell_type": "code",
      "source": [
        "# 16. Plot a boxplot to understand the spread and identify outliers\n",
        "\n",
        "# One can easily create a boxplot using pandas or matplotlib to visualize the spread and detect outliers in your dataset.\n",
        "\n",
        "import numpy as np\n",
        "import pandas as pd\n",
        "import matplotlib.pyplot as plt\n",
        "\n",
        "# Simulate the dataset again\n",
        "np.random.seed(42)\n",
        "data = {\n",
        "    'Math': np.random.normal(70, 10, 100),\n",
        "    'Science': np.random.normal(65, 12, 100),\n",
        "    'English': np.random.normal(75, 8, 100)\n",
        "}\n",
        "\n",
        "df = pd.DataFrame(data)\n",
        "\n",
        "# Plot boxplots\n",
        "plt.figure(figsize=(10, 6))\n",
        "df.boxplot(column=['Math', 'Science', 'English'])\n",
        "plt.title('Boxplot of Subject Scores')\n",
        "plt.ylabel('Scores')\n",
        "plt.grid(True)\n",
        "plt.show()\n"
      ],
      "metadata": {
        "colab": {
          "base_uri": "https://localhost:8080/",
          "height": 545
        },
        "id": "RN7_nRHJmWRq",
        "outputId": "ba373a77-6a10-4d54-8d10-b26e94880051"
      },
      "execution_count": 5,
      "outputs": [
        {
          "output_type": "display_data",
          "data": {
            "text/plain": [
              "<Figure size 1000x600 with 1 Axes>"
            ],
            "image/png": "[encoded data removed]"
          },
          "metadata": {}
        }
      ]
    },
    {
      "cell_type": "code",
      "source": [
        "# 17. Calculate the interquartile range (IQR) of a dataset\n",
        "\n",
        "\n",
        "import numpy as np\n",
        "import pandas as pd\n",
        "\n",
        "# Simulate a dataset\n",
        "np.random.seed(42)\n",
        "data = np.random.normal(50, 15, 100)  # 100 values, mean=50, std=15\n",
        "df = pd.Series(data)\n",
        "\n",
        "# Calculate IQR\n",
        "Q1 = df.quantile(0.25)\n",
        "Q3 = df.quantile(0.75)\n",
        "IQR = Q3 - Q1\n",
        "\n",
        "print(f\"Q1 (25th percentile): {Q1:.2f}\")\n",
        "print(f\"Q3 (75th percentile): {Q3:.2f}\")\n",
        "print(f\"IQR (Interquartile Range): {IQR:.2f}\")"
      ],
      "metadata": {
        "colab": {
          "base_uri": "https://localhost:8080/"
        },
        "id": "KAxx-9Tomwqe",
        "outputId": "3fc414dd-2bf8-49b0-bf7d-75f8ba56ec45"
      },
      "execution_count": 6,
      "outputs": [
        {
          "output_type": "stream",
          "name": "stdout",
          "text": [
            "Q1 (25th percentile): 40.99\n",
            "Q3 (75th percentile): 56.09\n",
            "IQR (Interquartile Range): 15.10\n"
          ]
        }
      ]
    },
    {
      "cell_type": "code",
      "source": [
        "# 18. Implement Z-score normalization and explain its significance\n",
        "\n",
        "# Z-score normalization, also known as standardization, transforms data to have a mean of 0 and a standard deviation of 1.\n",
        "# This technique is widely used in machine learning, statistics, and data preprocessing to handle datasets with varying scales.\n",
        "\n",
        "import numpy as np\n",
        "import pandas as pd\n",
        "from scipy.stats import zscore\n",
        "\n",
        "# Simulate data\n",
        "np.random.seed(42)\n",
        "data = pd.DataFrame({\n",
        "    'Math': np.random.normal(70, 10, 100),\n",
        "    'Science': np.random.normal(65, 12, 100),\n",
        "    'English': np.random.normal(75, 8, 100)\n",
        "})\n",
        "\n",
        "# Apply Z-score normalization\n",
        "z_normalized = data.apply(zscore)\n",
        "\n",
        "# Display first 5 rows\n",
        "print(z_normalized.head())"
      ],
      "metadata": {
        "colab": {
          "base_uri": "https://localhost:8080/"
        },
        "id": "qIHOxjlLneIl",
        "outputId": "cdc2c43a-0132-4aa2-fb24-f3ee26dacce2"
      },
      "execution_count": 7,
      "outputs": [
        {
          "output_type": "stream",
          "name": "stdout",
          "text": [
            "       Math   Science   English\n",
            "0  0.664619 -1.515115  0.271485\n",
            "1 -0.038089 -0.466809  0.459646\n",
            "2  0.831697 -0.384681  0.943743\n",
            "3  1.800406 -0.868997  0.916631\n",
            "4 -0.144206 -0.193479 -1.337135\n"
          ]
        }
      ]
    },
    {
      "cell_type": "code",
      "source": [
        "# 19. Compare two datasets using their standard deviations\n",
        "\n",
        "import numpy as np\n",
        "import pandas as pd\n",
        "\n",
        "# Simulate two datasets\n",
        "np.random.seed(1)\n",
        "data1 = np.random.normal(50, 5, 100)    # Mean=50, SD=5\n",
        "data2 = np.random.normal(50, 15, 100)   # Mean=50, SD=15\n",
        "\n",
        "# Convert to Series\n",
        "series1 = pd.Series(data1)\n",
        "series2 = pd.Series(data2)\n",
        "\n",
        "# Calculate standard deviation\n",
        "std1 = series1.std()\n",
        "std2 = series2.std()\n",
        "\n",
        "print(f\"Dataset 1 Standard Deviation: {std1:.2f}\")\n",
        "print(f\"Dataset 2 Standard Deviation: {std2:.2f}\")"
      ],
      "metadata": {
        "colab": {
          "base_uri": "https://localhost:8080/"
        },
        "id": "qQTAZc4hoYYb",
        "outputId": "185ca76e-4773-471e-b4c7-aa97fad71af5"
      },
      "execution_count": 10,
      "outputs": [
        {
          "output_type": "stream",
          "name": "stdout",
          "text": [
            "Dataset 1 Standard Deviation: 4.45\n",
            "Dataset 2 Standard Deviation: 14.05\n"
          ]
        }
      ]
    },
    {
      "cell_type": "code",
      "source": [
        "# 20. Write a Python program to visualize covariance using a heatmap\n",
        "\n",
        "import numpy as np\n",
        "import pandas as pd\n",
        "import seaborn as sns\n",
        "import matplotlib.pyplot as plt\n",
        "\n",
        "# Simulate a dataset\n",
        "np.random.seed(42)\n",
        "data = pd.DataFrame({\n",
        "    'Math': np.random.normal(70, 10, 100),\n",
        "    'Science': np.random.normal(65, 12, 100),\n",
        "    'English': np.random.normal(75, 8, 100)\n",
        "})\n",
        "\n",
        "# Calculate covariance matrix\n",
        "cov_matrix = data.cov()\n",
        "\n",
        "# Plot heatmap\n",
        "plt.figure(figsize=(8, 6))\n",
        "sns.heatmap(cov_matrix, annot=True, fmt=\".2f\", cmap='coolwarm', square=True)\n",
        "plt.title(\"Covariance Matrix Heatmap\")\n",
        "plt.tight_layout()\n",
        "plt.show()"
      ],
      "metadata": {
        "colab": {
          "base_uri": "https://localhost:8080/",
          "height": 607
        },
        "id": "YRdiDi_Kon2T",
        "outputId": "f6da1cb6-797d-4c1d-e35d-0733c87fd66e"
      },
      "execution_count": 11,
      "outputs": [
        {
          "output_type": "display_data",
          "data": {
            "text/plain": [
              "<Figure size 800x600 with 2 Axes>"
            ],
            "image/png": "[encoded data removed]"
          },
          "metadata": {}
        }
      ]
    },
    {
      "cell_type": "code",
      "source": [
        "# 21. Use seaborn to create a correlation matrix for a dataset\n",
        "\n",
        "import numpy as np\n",
        "import pandas as pd\n",
        "import seaborn as sns\n",
        "import matplotlib.pyplot as plt\n",
        "\n",
        "# Simulate dataset\n",
        "np.random.seed(42)\n",
        "data = pd.DataFrame({\n",
        "    'Math': np.random.normal(70, 10, 100),\n",
        "    'Science': np.random.normal(65, 12, 100),\n",
        "    'English': np.random.normal(75, 8, 100)\n",
        "})\n",
        "\n",
        "# Compute correlation matrix\n",
        "corr_matrix = data.corr()\n",
        "\n",
        "# Create heatmap\n",
        "plt.figure(figsize=(8, 6))\n",
        "sns.heatmap(corr_matrix, annot=True, cmap='coolwarm', fmt=\".2f\", square=True)\n",
        "plt.title(\"Correlation Matrix Heatmap\")\n",
        "plt.tight_layout()\n",
        "plt.show()\n"
      ],
      "metadata": {
        "colab": {
          "base_uri": "https://localhost:8080/",
          "height": 607
        },
        "id": "84JnOOnbpETR",
        "outputId": "19833438-b27d-4c05-ef31-686e71e38267"
      },
      "execution_count": 12,
      "outputs": [
        {
          "output_type": "display_data",
          "data": {
            "text/plain": [
              "<Figure size 800x600 with 2 Axes>"
            ],
            "image/png": "[encoded data removed]"
          },
          "metadata": {}
        }
      ]
    },
    {
      "cell_type": "code",
      "source": [
        "# 22. Generate a dataset and implement both variance and standard deviation computations\n",
        "\n",
        "import numpy as np\n",
        "import pandas as pd\n",
        "\n",
        "# Generate a dataset: 100 random values with a mean of 50 and standard deviation of 15\n",
        "np.random.seed(42)\n",
        "data = np.random.normal(50, 15, 100)\n",
        "\n",
        "# Convert to pandas Series\n",
        "data_series = pd.Series(data)\n",
        "\n",
        "# Compute Variance\n",
        "variance = data_series.var()\n",
        "\n",
        "# Compute Standard Deviation\n",
        "std_dev = data_series.std()\n",
        "\n",
        "# Display results\n",
        "print(f\"Variance: {variance:.2f}\")\n",
        "print(f\"Standard Deviation: {std_dev:.2f}\")"
      ],
      "metadata": {
        "colab": {
          "base_uri": "https://localhost:8080/"
        },
        "id": "VMDFr4qYpUdI",
        "outputId": "347944b6-bf90-4c45-b406-46f2fbafea1d"
      },
      "execution_count": 13,
      "outputs": [
        {
          "output_type": "stream",
          "name": "stdout",
          "text": [
            "Variance: 185.57\n",
            "Standard Deviation: 13.62\n"
          ]
        }
      ]
    },
    {
      "cell_type": "code",
      "source": [
        "# 23. Visualize skewness and kurtosis using Python libraries like matplotlib or seaborn\n",
        "\n",
        "\n",
        "import numpy as np\n",
        "import pandas as pd\n",
        "import seaborn as sns\n",
        "import matplotlib.pyplot as plt\n",
        "from scipy.stats import skew, kurtosis\n",
        "\n",
        "# Generate a dataset: 1000 values with a skewed distribution (e.g., exponential distribution)\n",
        "np.random.seed(42)\n",
        "data = np.random.exponential(scale=1.0, size=1000)\n",
        "\n",
        "# Convert to pandas Series\n",
        "data_series = pd.Series(data)\n",
        "\n",
        "# Calculate skewness and kurtosis\n",
        "data_skewness = skew(data)\n",
        "data_kurtosis = kurtosis(data)\n",
        "\n",
        "# Plot histogram and KDE to visualize skewness and kurtosis\n",
        "plt.figure(figsize=(10, 6))\n",
        "\n",
        "# Plot histogram and KDE\n",
        "sns.histplot(data_series, kde=True, bins=30, color='skyblue')\n",
        "\n",
        "# Add title with skewness and kurtosis values\n",
        "plt.title(f'Skewness: {data_skewness:.2f}, Kurtosis: {data_kurtosis:.2f}', fontsize=14)\n",
        "plt.xlabel('Values')\n",
        "plt.ylabel('Frequency')\n",
        "plt.grid(True)\n",
        "plt.show()\n",
        "\n",
        "# Display skewness and kurtosis\n",
        "print(f\"Skewness: {data_skewness:.2f}\")\n",
        "print(f\"Kurtosis: {data_kurtosis:.2f}\")"
      ],
      "metadata": {
        "colab": {
          "base_uri": "https://localhost:8080/",
          "height": 600
        },
        "id": "KHTMrio2pojJ",
        "outputId": "42d387df-e961-4c72-cb3e-2bc54f46cfbe"
      },
      "execution_count": 14,
      "outputs": [
        {
          "output_type": "display_data",
          "data": {
            "text/plain": [
              "<Figure size 1000x600 with 1 Axes>"
            ],
            "image/png": "[encoded data removed]"
          },
          "metadata": {}
        },
        {
          "output_type": "stream",
          "name": "stdout",
          "text": [
            "Skewness: 1.87\n",
            "Kurtosis: 5.22\n"
          ]
        }
      ]
    },
    {
      "cell_type": "code",
      "source": [
        "# 24. Implement the Pearson and Spearman correlation coefficients for a dataset.\n",
        "\n",
        "import numpy as np\n",
        "import pandas as pd\n",
        "\n",
        "# Generate a simulated dataset\n",
        "np.random.seed(42)\n",
        "data = {\n",
        "    'Math': np.random.normal(70, 10, 100),\n",
        "    'Science': np.random.normal(65, 12, 100),\n",
        "    'English': np.random.normal(75, 8, 100)\n",
        "}\n",
        "\n",
        "df = pd.DataFrame(data)\n",
        "\n",
        "# Calculate Pearson correlation coefficient (linear relationship)\n",
        "pearson_corr = df.corr(method='pearson')\n",
        "\n",
        "# Calculate Spearman correlation coefficient (monotonic relationship)\n",
        "spearman_corr = df.corr(method='spearman')\n",
        "\n",
        "# Display results\n",
        "print(\"Pearson Correlation Coefficients:\")\n",
        "print(pearson_corr)\n",
        "\n",
        "print(\"\\nSpearman Correlation Coefficients:\")\n",
        "print(spearman_corr)"
      ],
      "metadata": {
        "colab": {
          "base_uri": "https://localhost:8080/"
        },
        "id": "QzHpjmPVp2Xv",
        "outputId": "31cb1073-e1db-4b54-c1d2-62243061af4f"
      },
      "execution_count": 16,
      "outputs": [
        {
          "output_type": "stream",
          "name": "stdout",
          "text": [
            "Pearson Correlation Coefficients:\n",
            "             Math   Science   English\n",
            "Math     1.000000 -0.136422  0.190840\n",
            "Science -0.136422  1.000000 -0.036632\n",
            "English  0.190840 -0.036632  1.000000\n",
            "\n",
            "Spearman Correlation Coefficients:\n",
            "             Math   Science   English\n",
            "Math     1.000000 -0.107963  0.176694\n",
            "Science -0.107963  1.000000 -0.052505\n",
            "English  0.176694 -0.052505  1.000000\n"
          ]
        }
      ]
    }
  ]
}